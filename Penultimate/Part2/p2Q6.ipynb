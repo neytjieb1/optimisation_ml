{
 "cells": [
  {
   "attachments": {},
   "cell_type": "markdown",
   "metadata": {},
   "source": [
    "## Part 2"
   ]
  },
  {
   "attachments": {},
   "cell_type": "markdown",
   "metadata": {},
   "source": [
    "The Multi-Layer Perceptron with k layers and input $x\\in\\mathbb{R}^{n_1}$ takes the form\n",
    "$$\n",
    "f(x) = W_k \\sigma(W_{k-1}\\sigma(\\dots(W_1x)))\n",
    "$$\n",
    "where $\\sigma$ is some non-linear activation function and each $W_i$ is a real matrix in $\\mathbb{R}^{n_{i+1}\\times n_{i}}$ s.t. $f(x)\\in\\mathbb{R}^{n_{k+1}}$"
   ]
  },
  {
   "cell_type": "code",
   "execution_count": 1,
   "metadata": {},
   "outputs": [],
   "source": [
    "def importData():\n",
    "    from sklearn import datasets\n",
    "    dataset = datasets.fetch_california_housing(as_frame = True)\n",
    "\n",
    "    from sklearn.preprocessing import StandardScaler\n",
    "    from sklearn.model_selection import train_test_split\n",
    "    import numpy as np\n",
    "    np.random.seed(1)\n",
    "\n",
    "    dataset.frame_normalized = StandardScaler().fit_transform(dataset.frame)\n",
    "    X = dataset.frame_normalized[:,0:len(dataset.frame.columns) - 1]\n",
    "    y = dataset.frame_normalized[:,len(dataset.frame.columns) - 1]\n",
    "\n",
    "    X_train, X_test, y_train, y_test = train_test_split(X, y, test_size = 0.2, random_state = 9)\n",
    "    X_train = np.insert(X_train, 0, np.ones(X_train.shape[0]), axis=1)\n",
    "    X_test = np.insert(X_test, 0, np.ones(X_test.shape[0]), axis=1)\n",
    "\n",
    "    return X_train, y_train, X_test, y_test"
   ]
  },
  {
   "cell_type": "code",
   "execution_count": 42,
   "metadata": {},
   "outputs": [],
   "source": [
    "import numpy as np\n",
    "\n",
    "def dot(W, x):\n",
    "    '''\n",
    "    Implementation of autodifferentiation of dot-product.\n",
    "    Inputs:\n",
    "        W: nxm real matrix\n",
    "        x: an m-dimensional vector\n",
    "    Output:\n",
    "        val: evaluated value\n",
    "        vjp: vector jacobian product for each of the inputs\n",
    "    '''\n",
    "    value = np.dot(W, x)\n",
    "\n",
    "    def vjp(u):\n",
    "        vjp_wrt_W = np.outer(u, x) \n",
    "        vjp_wrt_x = W.T.dot(u)\n",
    "        return vjp_wrt_x, vjp_wrt_W\n",
    "        \n",
    "    return value, vjp\n",
    "\n",
    "def relu(x):\n",
    "    '''\n",
    "    Implementation of autodifferentiation of relu activation function.\n",
    "    Inputs:\n",
    "        x: an m-dimensional vector\n",
    "    Output:\n",
    "        val: evaluated value\n",
    "        vjp: vector jacobian product for x\n",
    "    '''\n",
    "    value = np.maximum(0, x)\n",
    "\n",
    "    def vjp(u):\n",
    "        gdash = (x>0).reshape(-1,1)\n",
    "        vjp_wrt_x = u*gdash\n",
    "        return vjp_wrt_x,  \n",
    "    \n",
    "    return value, vjp\n",
    "\n",
    "def initialiseMLP_random(inputfeatures, layers, outputfeature):\n",
    "    '''\n",
    "    Function facilitating the setup of a MLP. \n",
    "    Inputs:\n",
    "        inputfeatures: dimension of input\n",
    "        layers: number of layers\n",
    "        outputfeatures: dimension of output\n",
    "    Outputs:\n",
    "        W: list of with len(layers) matrices of desired dimension    \n",
    "    '''\n",
    "    dims = np.random.choice([i for i in range(2,8)], layers)\n",
    "    W = [np.array(np.random.rand(dims[0], inputfeatures))]\n",
    "    for i in range(1, len(dims)):\n",
    "        Wi = np.array(np.random.rand(dims[i], dims[i-1]))\n",
    "        W = np.insert(Wi, W, 0)\n",
    "    W = np.insert(W, np.array(np.random.rand(outputfeature, dims[-1])))\n",
    "    return W\n",
    "\n",
    "def mlp2(x, W):\n",
    "    \"\"\"\n",
    "    input: \n",
    "        x = input data\n",
    "        W = list of weight matrices, W = [W2, W1]\n",
    "    formula:\n",
    "        y = W2.q(W1.x)\n",
    "    returns:\n",
    "        value = evaluated value according to formula\n",
    "        vjp = tuple of vjp's in order x, W\n",
    "    \"\"\"\n",
    "    W2, W1 = W\n",
    "    a, vjp_dot1 = dot(W1, x)\n",
    "    b, vjp_relu = relu(a)\n",
    "    value, vjp_dot2 = dot(W2, b)\n",
    "\n",
    "    def vjp(u):\n",
    "        vjp_wrt_b, vjp_wrt_W2 = vjp_dot2(u)\n",
    "        vjp_wrt_a, = vjp_relu(vjp_wrt_b)\n",
    "        vjp_wrt_x, vjp_wrt_W1 = vjp_dot1(vjp_wrt_a) \n",
    "\n",
    "        return vjp_wrt_x, [vjp_wrt_W2, vjp_wrt_W1]\n",
    "    return value, vjp\n",
    "\n",
    "def mlpk(x, W): #W = [Wk, ..., W3, W2, W1]\n",
    "    \"\"\"\n",
    "    input: \n",
    "        x = input data\n",
    "        W = list of weight matrices, W = [Wk, ..., W3, W2, W1]\n",
    "    formula:\n",
    "        y = Wk(...q.W2.q(W1.x) )\n",
    "    returns:\n",
    "        value = evaluated value\n",
    "        vjp = tuple of vjp's in order x, W\n",
    "    \"\"\"\n",
    "\n",
    "    if (len(W)>=3):\n",
    "        value, vjp_1 = mlpk(x, W[1:len(W)])\n",
    "    else:\n",
    "        return mlp2(x, [W[-2], W[-1]])\n",
    "    \n",
    "    value, vjp_2 = relu(value)\n",
    "    value, vjp_3 = dot(W[0], value)\n",
    "\n",
    "    def vjp(u):\n",
    "        vjp_wrt_x, vjp_wrt_Wk = vjp_3(u)\n",
    "        vjp_wrt_x, = vjp_2(vjp_wrt_x)\n",
    "        vjp_wrt_x, *vjp_wrt_W = vjp_1(vjp_wrt_x)\n",
    "        vjp_wrt_W = vjp_wrt_W[0]\n",
    "        vjp_wrt_W.insert(0, vjp_wrt_Wk)\n",
    "        return vjp_wrt_x, vjp_wrt_W\n",
    "\n",
    "    return value, vjp\n",
    "\n",
    "def squared_loss(y_pred, y, d):\n",
    "    \"\"\"\n",
    "    Autodifferentiation of f = 1/(2n)||y_pred - y||**2 with gradient (1/n)*(y_pred-y)*[1, -1].T\n",
    "    input: \n",
    "        y_pred, y\n",
    "    returns:\n",
    "        value = evaluated value\n",
    "        vjp = tuple of vjp's in order y_pred, y\n",
    "    \"\"\"\n",
    "    residual = y_pred - y\n",
    "    def vjp(u):\n",
    "        vjp_y_pred = u*(1*residual)/d\n",
    "        vjp_y = u*(-1*residual)/d\n",
    "        return vjp_y_pred, vjp_y\n",
    "    value = 0.5 * np.sum(residual ** 2) / d\n",
    "    return value, vjp\n",
    "\n",
    "def loss_i(i, X, y, W):\n",
    "    '''\n",
    "    Implementation of autodifferentiation for SGD loss at ith component\n",
    "    Inputs:\n",
    "        i: index\n",
    "        X: the feature matrix\n",
    "        y: labels\n",
    "        W: set of weights as a list\n",
    "    Output:\n",
    "        val: evaluated value\n",
    "        vjp: vector jacobian product for x\n",
    "    '''\n",
    "    n, d = X.shape\n",
    "    x = X[i]\n",
    "    pred_value, predicted_vjp = mlpk(x, W)\n",
    "    loss_value, loss_vjp = squared_loss(pred_value, y[i], d)\n",
    "    value = loss_value\n",
    "\n",
    "    def vjp(u):\n",
    "        vjp_y, vjp_y_pred = loss_vjp(u)\n",
    "        vjp_x, vjp_W = predicted_vjp(vjp_y)\n",
    "        return vjp_x, vjp_y_pred, vjp_W\n",
    "    \n",
    "    return value, vjp"
   ]
  },
  {
   "cell_type": "code",
   "execution_count": 28,
   "metadata": {},
   "outputs": [],
   "source": [
    "def SGD(niter, step, W, X_train, y_train):\n",
    "    '''\n",
    "    Implementation of SGD for mlp's\n",
    "    Inputs:\n",
    "        niter: number of iterations to run\n",
    "        step: learning rate \n",
    "        W: list of weight matrices\n",
    "        X_train: feature matrix\n",
    "        y_train: vector of labels\n",
    "    Output:\n",
    "        loss_evol: loss at each iteration\n",
    "        W: new set of weight matrices\n",
    "    '''\n",
    "    n, d = X_train.shape\n",
    "    loss_evol = []\n",
    "\n",
    "    for it in range(niter):\n",
    "        if (it%n == 0):\n",
    "            print(f'Epoch {it//n}', end='\\r')\n",
    "        index = np.random.choice(n, 1)[-1]\n",
    "\n",
    "        vali, vjpi = loss_i(index, X_train, y_train, W, d)\n",
    "        u = np.array([1]).reshape(-1,1)\n",
    "        vjp_wrtx, vjp_wrty, vjp_wrtW = vjpi(u)\n",
    "\n",
    "        for k in range(len(W)):\n",
    "            W[k] = W[k] - (1/n)*vjp_wrtW[k]*step\n",
    "    \n",
    "        loss_evol.append(vali/n)\n",
    "\n",
    "    return loss_evol, W\n"
   ]
  },
  {
   "cell_type": "code",
   "execution_count": 36,
   "metadata": {},
   "outputs": [
    {
     "name": "stdout",
     "output_type": "stream",
     "text": [
      "Finite Differences for MLP\n",
      "Pass: Equal Values\n",
      "Pass: Equal VJP's\n"
     ]
    }
   ],
   "source": [
    "def findiff_mlp():\n",
    "    print(\"Finite Differences for MLP\")\n",
    "\n",
    "    def f_rec(x,W):\n",
    "        if len(W)==1:\n",
    "            temp = np.dot(W, x).reshape(-1)\n",
    "            return temp\n",
    "        temp = np.dot(W[0], np.maximum(f_rec(x, W[1:]), 0))\n",
    "        return temp\n",
    "\n",
    "    x = X_train[int(np.random.choice(n, 1))]\n",
    "    val, vjp = mlpk(x, W)\n",
    "    assert(np.allclose(val, f_rec(x, W), rtol=1e-8)), 'values not equal'\n",
    "    print(\"Pass: Equal Values\")\n",
    "\n",
    "    g = lambda x, eps, e: ( (f_rec(x+eps*e, W) - f_rec(x, W)) / eps )\n",
    "    eps = 1e-4\n",
    "    e = np.eye(1, d, 0).reshape(-1)\n",
    "\n",
    "    findiff = np.zeros(len(x))\n",
    "    for i in range(len(x)):\n",
    "        findiff[i] = g(x, eps, np.eye(1,d, i).reshape(-1))\n",
    "\n",
    "    #VJP with ei extracts ith row\n",
    "    u = np.array([1]).reshape(-1,1)\n",
    "    calculated_vjpX, calculated_vjpW = vjp(u)\n",
    "    assert(np.allclose(findiff, calculated_vjpX.reshape(-1), rtol=1e-6)), \"vjp's not equal\"\n",
    "    print(\"Pass: Equal VJP's\")\n",
    "\n",
    "findiff_mlp()"
   ]
  },
  {
   "cell_type": "code",
   "execution_count": 43,
   "metadata": {},
   "outputs": [
    {
     "name": "stdout",
     "output_type": "stream",
     "text": [
      "Finite differences squared loss\n",
      "Pass: Equal values\n",
      "Pass: Equal VJPs\n"
     ]
    }
   ],
   "source": [
    "def findiff_sq():\n",
    "    print(\"Finite differences squared loss\")\n",
    "    def f_sq(x1, x2, d):\n",
    "        res = (x1-x2)\n",
    "        res = res**2\n",
    "        res = np.sum(res)\n",
    "        res = res/(2*d)\n",
    "        return res\n",
    "    eps = 1e-8\n",
    "\n",
    "    np.random.seed(2)\n",
    "    x1 = np.random.uniform(0,1,d)\n",
    "    x2 = np.random.uniform(0,1,d)\n",
    "\n",
    "    val, vjp = squared_loss(x1, x2, d)\n",
    "\n",
    "    vjpx1, vjpx2 = vjp(1)\n",
    "\n",
    "    fd1 = np.zeros(len(x1))\n",
    "    fd2 = np.zeros(len(x1))\n",
    "    for i in range(len(x1)):\n",
    "        ei = np.eye(1,d,i)\n",
    "        fd1[i] = (f_sq(x1+eps*ei, x2, d) - f_sq(x1,x2, d))/eps\n",
    "        fd2[i] = (f_sq(x1, x2+eps*ei, d) - f_sq(x1,x2, d))/eps\n",
    "\n",
    "    assert(np.allclose(val, f_sq(x1, x2, d)))\n",
    "    print(\"Pass: Equal values\")\n",
    "    assert(np.allclose(fd1, vjpx1))\n",
    "    assert(np.allclose(fd2, vjpx2))\n",
    "    print(\"Pass: Equal VJPs\")\n",
    "findiff_sq()"
   ]
  },
  {
   "attachments": {},
   "cell_type": "markdown",
   "metadata": {},
   "source": [
    "We now turn to the dataset from Part 1, implement a very small MLP with 2 layers and train it using SGD."
   ]
  },
  {
   "cell_type": "code",
   "execution_count": 44,
   "metadata": {},
   "outputs": [
    {
     "name": "stdout",
     "output_type": "stream",
     "text": [
      "[(1, 5), (5, 5), (5, 9)]\n"
     ]
    }
   ],
   "source": [
    "X_train, y_train, X_test, y_test = importData()\n",
    "n, d = X_train.shape\n",
    "\n",
    "innerdim = 5\n",
    "W0 = np.random.randn(innerdim, d)        #np.ones((innerdim, d)) #   \n",
    "W1 = np.ones((innerdim, innerdim)) #np.random.randn(innerdim, innerdim)    \n",
    "W2 = np.random.randn(1, innerdim)           #np.ones((1, innerdim)) \n",
    "W = [W2, W1, W0]\n",
    "# print([i.shape for i in W])"
   ]
  },
  {
   "attachments": {},
   "cell_type": "markdown",
   "metadata": {},
   "source": [
    "We run the model for 10 epochs."
   ]
  },
  {
   "cell_type": "code",
   "execution_count": null,
   "metadata": {},
   "outputs": [],
   "source": [
    "epochs = 10\n",
    "errs, Wopt = SGD(niter=n*epochs, step=1e-5, W=W, X_train=X_train, y_train=y_train)"
   ]
  },
  {
   "attachments": {},
   "cell_type": "markdown",
   "metadata": {},
   "source": [
    "Unfortunately, the model does not seem to be learning; there must be some error but I have not been able to find it."
   ]
  },
  {
   "cell_type": "code",
   "execution_count": 39,
   "metadata": {},
   "outputs": [
    {
     "data": {
      "image/png": "[encoded data removed]",
      "text/plain": [
       "<Figure size 432x288 with 1 Axes>"
      ]
     },
     "metadata": {
      "needs_background": "light"
     },
     "output_type": "display_data"
    }
   ],
   "source": [
    "import matplotlib.pyplot as plt\n",
    "t = np.linspace(0, epochs-1, epochs)\n",
    "plt.plot(np.log(errs[::n]), 'g');"
   ]
  },
  {
   "attachments": {},
   "cell_type": "markdown",
   "metadata": {},
   "source": [
    "Indeed, using minibatching, we also obtain wildly oscillating results"
   ]
  },
  {
   "cell_type": "code",
   "execution_count": null,
   "metadata": {},
   "outputs": [
    {
     "data": {
      "image/png": "[encoded data removed]",
      "text/plain": [
       "<Figure size 432x288 with 1 Axes>"
      ]
     },
     "metadata": {
      "needs_background": "light"
     },
     "output_type": "display_data"
    }
   ],
   "source": [
    "def SGD_minibatch(niter, step, W, X_train, y_train, batchsize):\n",
    "    n, d = X_train.shape\n",
    "    loss_evol = []\n",
    "\n",
    "    for it in range(niter):\n",
    "        index = np.random.choice(n, batchsize)\n",
    "        loss = 0\n",
    "        grad = []\n",
    "        u = np.array([1]).reshape(-1,1)\n",
    "\n",
    "        for b in range(batchsize):\n",
    "            vali, vjpi = loss_i(index[b], X_train, y_train, W)\n",
    "            vjp_wrtx, vjp_wrty, vjp_wrtW = vjpi(u)\n",
    "\n",
    "            loss += vali\n",
    "            grad.append(vjp_wrtW)\n",
    "        \n",
    "        loss = loss / batchsize\n",
    "\n",
    "        for l in range(len(W)):\n",
    "            for j in range(1,len(grad)):\n",
    "                #First element of grad has place for each W. Add all\n",
    "                grad[0][l] += grad[j][l]\n",
    "        grad = grad[0]\n",
    "        #And then sum to average\n",
    "        grad = [g/batchsize for g in grad]\n",
    "\n",
    "        #Update\n",
    "        for k in range(len(W)):\n",
    "            W[k] = W[k] - grad[k]*step\n",
    "    \n",
    "        # Append value\n",
    "        loss_evol.append(vali)\n",
    "    return loss_evol\n",
    "\n",
    "errs = SGD_minibatch(niter=500, step=1e-100, W=W, X_train=X_train, y_train=y_train, batchsize=3)\n",
    "plt.plot(np.log(errs), 'g');"
   ]
  },
  {
   "cell_type": "code",
   "execution_count": null,
   "metadata": {},
   "outputs": [],
   "source": []
  }
 ],
 "metadata": {
  "kernelspec": {
   "display_name": "Python 3",
   "language": "python",
   "name": "python3"
  },
  "language_info": {
   "codemirror_mode": {
    "name": "ipython",
    "version": 3
   },
   "file_extension": ".py",
   "mimetype": "text/x-python",
   "name": "python",
   "nbconvert_exporter": "python",
   "pygments_lexer": "ipython3",
   "version": "3.9.6 (tags/v3.9.6:db3ff76, Jun 28 2021, 15:26:21) [MSC v.1929 64 bit (AMD64)]"
  },
  "orig_nbformat": 4,
  "vscode": {
   "interpreter": {
    "hash": "bfa605650d3342199cd8cd9bb236e9172d9224cad72c2719efab3fb60e30b42d"
   }
  }
 },
 "nbformat": 4,
 "nbformat_minor": 2
}
