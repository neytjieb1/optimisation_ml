{
 "cells": [
  {
   "cell_type": "code",
   "execution_count": 2,
   "metadata": {},
   "outputs": [],
   "source": [
    "import numpy as np\n",
    "np.random.seed(1234)"
   ]
  },
  {
   "attachments": {},
   "cell_type": "markdown",
   "metadata": {},
   "source": [
    "* = elementwise multiplication\n",
    "\n",
    "outer = elementwise\n",
    "\n",
    "dot = normal dot product"
   ]
  },
  {
   "cell_type": "markdown",
   "metadata": {},
   "source": [
    "Simple Example"
   ]
  },
  {
   "cell_type": "code",
   "execution_count": 4,
   "metadata": {},
   "outputs": [
    {
     "name": "stdout",
     "output_type": "stream",
     "text": [
      "[14 32 50 68]\n",
      "(array([53, 58, 63]), array([[-1, -2, -3],\n",
      "       [ 0,  0,  0],\n",
      "       [ 2,  4,  6],\n",
      "       [ 4,  8, 12]]))\n"
     ]
    }
   ],
   "source": [
    "W = np.array(np.reshape([i for i in range(1,13)], (4,3)))\n",
    "x = np.array([1,2,3])\n",
    "u = np.array([-1,0,2,4])\n",
    "\n",
    "def dot(W, x):\n",
    "    value = np.dot(W, x)\n",
    "\n",
    "    def vjp(u):\n",
    "        vjp_wrt_W = np.outer(u, x)  #applied to W\n",
    "        vjp_wrt_x = W.T.dot(u)  #applied to x\n",
    "        # return vjp_wrt_W, vjp_wrt_x\n",
    "        return vjp_wrt_x, vjp_wrt_W\n",
    "        \n",
    "    return value, vjp\n",
    "\n",
    "value, vjp = dot(W, x)\n",
    "print(value)\n",
    "print(vjp(u))"
   ]
  },
  {
   "attachments": {},
   "cell_type": "markdown",
   "metadata": {},
   "source": [
    "### Question 1 \n",
    "Implement the relu function and its VJP in the format above. Using the finite difference equation (slide 13), make sure that the VJP is correct numerically."
   ]
  },
  {
   "cell_type": "code",
   "execution_count": 6,
   "metadata": {},
   "outputs": [],
   "source": [
    "def relu(x):\n",
    "    value = np.maximum(0, x)\n",
    "\n",
    "    def vjp(u):\n",
    "        gdash = lambda y: 1 if y>=0 else 0\n",
    "        vjp_wrt_x = u*np.vectorize(gdash)(x)\n",
    "        return vjp_wrt_x,  \n",
    "        # The comma is important!\n",
    "    \n",
    "    return value, vjp\n",
    "\n",
    "\n",
    "x = np.array([1,2,3])\n",
    "u = np.array([-1,0,2])\n",
    "value, vjp = relu(x)"
   ]
  },
  {
   "cell_type": "code",
   "execution_count": 36,
   "metadata": {},
   "outputs": [],
   "source": [
    "def act_tanh(x):\n",
    "    value = np.tanh(x)\n",
    "\n",
    "    def vjp(u): \n",
    "        gdash = lambda z: (1/np.cosh(z))**2         #Is this even right?\n",
    "        vjp_wrt_x = u*np.vectorize(gdash)(x)\n",
    "        return vjp_wrt_x,  \n",
    "    \n",
    "    return value, vjp\n",
    "\n",
    "x = np.array([1,2,3])\n",
    "u = np.array([-1,0,2])\n",
    "value, vjp = act_tanh(x)"
   ]
  },
  {
   "cell_type": "code",
   "execution_count": 31,
   "metadata": {},
   "outputs": [
    {
     "name": "stdout",
     "output_type": "stream",
     "text": [
      "Pass: Equal VJP's\n"
     ]
    }
   ],
   "source": [
    "def testFinDiff(ftrue, ftest, eps, d, W=[]):\n",
    "    x = np.random.randn(d)\n",
    "    val, vjp = ftest(x)\n",
    "\n",
    "    g = lambda x, eps, e: ( (ftrue(x+eps*e) - ftrue(x)) / eps )\n",
    "\n",
    "    fin_diff = []\n",
    "    for i in range(0, len(x)):\n",
    "        fin_diff.append(g(x, eps, np.eye(1,len(x),i).reshape(-1)))\n",
    "    fin_diff = np.array(fin_diff).T\n",
    "\n",
    "    #VJP with ei extracts ith row\n",
    "    calculated_vjpX = []\n",
    "    for i in range(len(x)):\n",
    "        vjpxi, = vjp(np.eye(1,len(x),i).reshape(-1))\n",
    "        calculated_vjpX.append(vjpxi)\n",
    "    calculated_vjpX = np.array(calculated_vjpX)\n",
    "\n",
    "    return (np.allclose(fin_diff, calculated_vjpX, rtol=1e-6))\n",
    "\n",
    "assert(testFinDiff(lambda x: np.maximum(0, x), relu, 1e-8, 4))\n",
    "print(\"Pass: Equal VJP's\")"
   ]
  },
  {
   "attachments": {},
   "cell_type": "markdown",
   "metadata": {},
   "source": [
    "### **Question 2**\n",
    "Reusing dot and relu, implement a 2-layer MLP with a relu activation.\n",
    "\n",
    "The 2-layer MLP is defined as follows:\n",
    "$$x\\mapsto\\text{relu}(W_{1}x)$$"
   ]
  },
  {
   "cell_type": "code",
   "execution_count": 11,
   "metadata": {},
   "outputs": [
    {
     "name": "stdout",
     "output_type": "stream",
     "text": [
      "[1.34936185 0.86358828 1.41374657 1.27940146]\n",
      "(array([1.37454734, 0.70825269, 0.71636386]), array([[0.12495168, 0.06270727, 0.11532222],\n",
      "       [0.6120925 , 0.30717992, 0.56492128],\n",
      "       [0.61237091, 0.30731964, 0.56517824],\n",
      "       [0.19015821, 0.0954313 , 0.17550357]]))\n"
     ]
    }
   ],
   "source": [
    "def mlp1(x, W1):\n",
    "    a, vjp1 = dot(W1, x)\n",
    "    b, vjp2 = relu(a)\n",
    "    \n",
    "    value = b\n",
    "    def vjp(u):\n",
    "        vjp_wrt_a, = vjp2(u)\n",
    "        # vjp_wrt_W1, vjp_wrt_x = vjp1(vjp_wrt_a)\n",
    "        vjp_wrt_x, vjp_wrt_W1 = vjp1(vjp_wrt_a)\n",
    "        return vjp_wrt_x, vjp_wrt_W1\n",
    "    return value, vjp\n",
    "\n",
    "#W1: First layer weights; has shape (D, H)\n",
    "\n",
    "#Little test\n",
    "D = 4\n",
    "H = 3\n",
    "W1 = np.random.rand(D,H)\n",
    "x = np.random.rand(H)\n",
    "u = np.random.rand(D)\n",
    "\n",
    "val, vjp = mlp1(x, W1)\n",
    "print(val)\n",
    "print(vjp(u))\n"
   ]
  },
  {
   "cell_type": "code",
   "execution_count": 38,
   "metadata": {},
   "outputs": [],
   "source": [
    "def mlp2(x, W2, W1):\n",
    "    \"\"\"\n",
    "    input: \n",
    "        x = input data\n",
    "        W1 = weight matrix\n",
    "        W2 = weight matrix\n",
    "    formula:\n",
    "        y = W2.q(W1.x)\n",
    "    returns:\n",
    "        value = evaluated value according to formula\n",
    "        vjp = tuple of vjp's in order d/dx, d/dW1, d/dW2\n",
    "\n",
    "    \"\"\"\n",
    "    a, vjp_dot1 = dot(W1, x)\n",
    "    b, vjp_relu = relu(a)\n",
    "    c, vjp_dot2 = dot(W2, b)\n",
    "    value = c\n",
    "\n",
    "    def vjp(u):\n",
    "        # vjp_wrt_W2, vjp_wrt_b = vjp_dot2(u)\n",
    "        vjp_wrt_b, vjp_wrt_W2 = vjp_dot2(u)\n",
    "        vjp_wrt_a, = vjp_relu(vjp_wrt_b)\n",
    "        # vjp_wrt_W1, vjp_wrt_x = vjp_dot1(vjp_wrt_a) \n",
    "        vjp_wrt_x, vjp_wrt_W1 = vjp_dot1(vjp_wrt_a) \n",
    "\n",
    "        return vjp_wrt_x, vjp_wrt_W1, vjp_wrt_W2 \n",
    "    return value, vjp\n",
    "\n",
    "\n",
    "\n",
    "def mlp3(x, W):\n",
    "    value, vjp_1 = mlp2(x, W[-2], W[-1])\n",
    "    value, vjp_2 = relu(value)\n",
    "    value, vjp_3 = dot(W[-3], value)\n",
    "\n",
    "    def vjp(u):\n",
    "        vjp_wrt_Wk, vjp_wrt_x = vjp_3(u)    #order must actually be changed here\n",
    "        vjp_wrt_x, = vjp_2(vjp_wrt_x)\n",
    "        vjp_wrt_x_wrtW = vjp_1(vjp_wrt_x)\n",
    "        return vjp_wrt_x_wrtW, vjp_wrt_Wk\n",
    "\n",
    "    return value, vjp\n",
    "    \n"
   ]
  },
  {
   "cell_type": "code",
   "execution_count": 39,
   "metadata": {},
   "outputs": [],
   "source": [
    "D, H, C = [3,2,4]\n",
    "\n",
    "x = np.random.rand(H)\n",
    "W1 = np.random.rand(D,H)\n",
    "W2 = np.random.rand(C,D)\n",
    "# W3 = np.random.rand(C,C)\n",
    "# u = np.random.rand(C)\n",
    "W3 = np.random.rand(H,C)\n",
    "W4 = np.random.rand(D,H)\n",
    "W5 = np.random.rand(D,D)\n",
    "u = np.random.rand(D)\n",
    "\n",
    "# val, vjp = mlp2(x, W2, W1)\n",
    "# val, vjp = mlp3(x, [W3, W2, W1])\n",
    "# val, vjp = mlpk(x, [W5, W4, W3, W2, W1])\n",
    "\n",
    "# print(val)\n",
    "# print(vjp(u))\n"
   ]
  },
  {
   "attachments": {},
   "cell_type": "markdown",
   "metadata": {},
   "source": [
    "### **Question 3** \n",
    "Implement the squared loss VJP"
   ]
  },
  {
   "cell_type": "code",
   "execution_count": 40,
   "metadata": {},
   "outputs": [],
   "source": [
    "def squared_loss(y_pred, y):\n",
    "    residual = y_pred - y\n",
    "    \n",
    "    def vjp(u):\n",
    "        vjp_y_pred = u*(1*residual)\n",
    "        vjp_y = u*(-1*residual)\n",
    "        return vjp_y_pred, vjp_y\n",
    "\n",
    "    value = 0.5 * np.sum(residual ** 2)\n",
    "    # The code requires every output to be an array.\n",
    "    return np.array([value]), vjp\n",
    "\n",
    "y = np.random.rand(5)\n",
    "epsilon = np.random.uniform(-1, 1, 5)/5\n",
    "y_pred = y + epsilon\n",
    "u = np.array([1,2,3,4,5])\n",
    "\n",
    "val, vjp = squared_loss(y_pred, y)"
   ]
  },
  {
   "attachments": {},
   "cell_type": "markdown",
   "metadata": {},
   "source": [
    "### **Question 4**\n",
    "Implement the loss by composing mlp2 and squared_loss"
   ]
  },
  {
   "cell_type": "code",
   "execution_count": 41,
   "metadata": {},
   "outputs": [],
   "source": [
    "def loss(x, y, W2, W1):\n",
    "    # pred, predicted_vjp = mlp2(x, W1, W2) #Elysheva suggested a change as follows:\n",
    "    pred_value, predicted_vjp = mlp2(x, W2, W1)\n",
    "    loss_value, loss_vjp = squared_loss(pred_value, y)\n",
    "    value = loss_value\n",
    "\n",
    "    def vjp(u):\n",
    "        vjp_y, vjp_y_pred = loss_vjp(u)\n",
    "        vjp_x, vjp_W1, vjp_W2 = predicted_vjp(vjp_y_pred)\n",
    "        return vjp_x, vjp_y, vjp_W1, vjp_W2\n",
    "    \n",
    "    return value, vjp\n",
    "\n",
    "# y = np.random.rand(C)\n",
    "# u = np.random.rand(C)\n",
    "\n",
    "# val, vjp = loss(x, y, W1, W2)\n",
    "# print(val)\n",
    "# print(vjp(u))\n"
   ]
  },
  {
   "attachments": {},
   "cell_type": "markdown",
   "metadata": {},
   "source": [
    "### **Question 5** \n",
    "Implement an MLP with an arbitrary number of layers."
   ]
  },
  {
   "cell_type": "code",
   "execution_count": 42,
   "metadata": {},
   "outputs": [],
   "source": [
    "def initialiseMLP_random(inputfeatures, layers, verbose=False):\n",
    "    import random\n",
    "    dims = random.choices([i for i in range(2,11)], k=layers)\n",
    "    W = [np.random.rand(dims[0], inputfeatures)]\n",
    "    for i in range(1, len(dims)):\n",
    "        Wi = np.random.rand(dims[i], dims[i-1])\n",
    "        W.append(Wi)\n",
    "\n",
    "    W.reverse()\n",
    "    x = np.random.random(inputfeatures)\n",
    "    u = np.random.rand(dims[-1])\n",
    "\n",
    "    if verbose:\n",
    "        print(np.shape(x))\n",
    "        for i in W:\n",
    "            print(np.shape(i))\n",
    "        print(np.shape(u))\n",
    "\n",
    "    return x, W, u"
   ]
  },
  {
   "cell_type": "code",
   "execution_count": 43,
   "metadata": {},
   "outputs": [],
   "source": [
    "def mlpk(x, W):\n",
    "    \"\"\"\n",
    "    input:\n",
    "        x = input data\n",
    "        W = list of weight matrices ordered Wk, ..., W2, W1\n",
    "    formula:\n",
    "        Wk.q(Wk-1q(...W2q(W1x)))\n",
    "        mlp2(mlp2(mlp2(x, W2, W1), W3, W2), W4, W3)\n",
    "    returns\n",
    "        value = evaluated value of network\n",
    "        vjp = tuple of vjp's in order d/dx, d/dW1, ... , d/dWk\n",
    "    \"\"\"\n",
    "    if (len(W)>3):\n",
    "        # print(\"if\", len(W))\n",
    "        value, vjp_1 = mlpk(x, W[1:len(W)])\n",
    "    else:\n",
    "        # print(\"else\", len(W))\n",
    "        value, vjp_1 = mlp2(x, W[-2], W[-1])\n",
    "    \n",
    "    value, vjp_2 = relu(value)\n",
    "    value, vjp_3 = dot(W[0], value)\n",
    "\n",
    "    def vjp(u):\n",
    "        # vjp_wrt_Wk, vjp_wrt_x = vjp_3(u)\n",
    "        vjp_wrt_x, vjp_wrt_Wk = vjp_3(u)\n",
    "        vjp_wrt_x, = vjp_2(vjp_wrt_x)\n",
    "        vjp_wrt_x_wrtW = vjp_1(vjp_wrt_x)\n",
    "        return vjp_wrt_x_wrtW, vjp_wrt_Wk\n",
    "\n",
    "    return value, vjp\n"
   ]
  },
  {
   "cell_type": "code",
   "execution_count": 44,
   "metadata": {},
   "outputs": [
    {
     "name": "stdout",
     "output_type": "stream",
     "text": [
      "[468.76638974 249.83885438 488.99532857 592.17834559]\n",
      "2\n"
     ]
    }
   ],
   "source": [
    "x, W, u = initialiseMLP_random(4, 7, verbose=False)\n",
    "val, vjp = mlpk(x, W)\n",
    "\n",
    "print(val)\n",
    "vjp_output = list(vjp(u))\n",
    "# print(\"vjp_x\", vjp_output[0], sep='\\n')\n",
    "print(len(vjp_output[0]))\n",
    "i=0\n",
    "# for w in vjp_output[1]:\n",
    "    # print(\"W{i}\".format(i=i), w, sep='\\n')\n",
    "    # i=i+1\n"
   ]
  },
  {
   "cell_type": "markdown",
   "metadata": {},
   "source": [
    "Check implementation by checking gradient"
   ]
  },
  {
   "cell_type": "code",
   "execution_count": 45,
   "metadata": {},
   "outputs": [],
   "source": [
    "import scipy\n",
    "def check_grad_calculations(pblinreg, pblogreg, n, d):\n",
    "    from scipy.optimize import check_grad \n",
    "    print(check_grad(pblinreg.fun, pblinreg.grad, np.random.randn(d)))\n",
    "    grad_error = []\n",
    "    for i in range(n):\n",
    "        ind = np.random.choice(n,1)\n",
    "        w =  np.random.randn(d)\n",
    "        vec =  np.random.randn(d)\n",
    "        eps = pow(10.0, -7.0)\n",
    "        grad_error.append((pblinreg.f_i( ind[0], w+eps*vec) - pblinreg.f_i( ind[0], w))/eps - np.dot(pblinreg.grad_i(ind[0],w),vec)) \n",
    "    print(np.mean(grad_error))\n",
    "\n",
    "    # Check for the logistic regression problem\n",
    "    print(check_grad(pblogreg.fun, pblogreg.grad, np.random.randn(d)))\n",
    "    grad_error = []\n",
    "    for i in range(n):\n",
    "        ind = np.random.choice(n,1)\n",
    "        w =  np.random.randn(d)\n",
    "        vec =  np.random.randn(d)\n",
    "        eps = pow(10.0, -7.0)\n",
    "        grad_error.append((pblogreg.f_i( ind[0], w+eps*vec) - pblogreg.f_i( ind[0], w))/eps - np.dot(pblogreg.grad_i(ind[0],w),vec)) \n",
    "    print(np.mean(grad_error))\n",
    "\n",
    "\n",
    "\n"
   ]
  },
  {
   "cell_type": "code",
   "execution_count": 46,
   "metadata": {},
   "outputs": [
    {
     "name": "stdout",
     "output_type": "stream",
     "text": [
      "[0.40252714 0.34232166 0.50288791 0.33283686]\n",
      "(array([0.88500466, 1.25942425]), array([[0.85765147, 0.09564121],\n",
      "       [0.74399662, 0.08296697],\n",
      "       [0.71224606, 0.07942629]]), array([[0.2328898 , 0.13321321, 0.13256135],\n",
      "       [0.17788106, 0.10174816, 0.10125026],\n",
      "       [0.03340358, 0.01910688, 0.01901338],\n",
      "       [0.08097938, 0.04632029, 0.04609363]]))\n"
     ]
    }
   ],
   "source": [
    "def mlp2(x, W1, W2):\n",
    "    a, vjp_a = mlp1(x, W1)\n",
    "    b, vjp_b = mlp1(a, W2)\n",
    "\n",
    "    def vjp(u):\n",
    "        vjp_wrt_x, vjp_wrt_W2 = vjp_b(u)\n",
    "        vjp_wrt_x, vjp_wrt_W1 = vjp_a(vjp_wrt_x)\n",
    "\n",
    "        return vjp_wrt_x, vjp_wrt_W1, vjp_wrt_W2\n",
    "    \n",
    "    return b, vjp\n",
    "\n",
    "\n",
    "    \n",
    "\n",
    "D, H, C = [3,2,4]\n",
    "x = np.random.rand(H)\n",
    "W1 = np.random.rand(D,H)\n",
    "W2 = np.random.rand(C,D)\n",
    "u = np.random.rand(C)\n",
    "\n",
    "val, vjp = mlp2(x, W1, W2)\n",
    "print(val)\n",
    "print(vjp(u))"
   ]
  },
  {
   "attachments": {},
   "cell_type": "markdown",
   "metadata": {},
   "source": [
    "### **Question 6**  \n",
    "Implement SGD to train your MLP on a dataset of your choice. Study the impact of depth (number of layers) and width (number of hidden units)."
   ]
  },
  {
   "cell_type": "code",
   "execution_count": 1,
   "metadata": {},
   "outputs": [],
   "source": [
    "\"\"\" \n",
    "SGD: x_k+1 = x_k + a_k * del_f_i(x_k)\n",
    "\"\"\"\n",
    "from sklearn import datasets\n",
    "dataset = datasets.fetch_california_housing(as_frame = True)\n",
    "\n",
    "from sklearn.preprocessing import StandardScaler\n",
    "from sklearn.model_selection import train_test_split\n",
    "import numpy as np\n",
    "np.random.seed(1)\n",
    "\n",
    "dataset.frame_normalized = StandardScaler().fit_transform(dataset.frame)\n",
    "# We drop Longitude as well since Latitude has enough information\n",
    "X = dataset.frame_normalized[:,0:len(dataset.frame.columns) - 2]\n",
    "y = dataset.frame_normalized[:,len(dataset.frame.columns) - 1]\n",
    "\n",
    "X_train, X_test, y_train, y_test = train_test_split(X, y, test_size = 0.2, random_state = 9)\n",
    "X_train = np.insert(X_train, 0, np.ones(X_train.shape[0]), axis=1)\n",
    "X_test = np.insert(X_test, 0, np.ones(X_test.shape[0]), axis=1)\n",
    "\n",
    "n, d = X_train.shape\n"
   ]
  },
  {
   "cell_type": "code",
   "execution_count": 51,
   "metadata": {},
   "outputs": [],
   "source": [
    "def loss_i(i, X, y, W):\n",
    "    pred_value, predicted_vjp = mlpk(X[i], W)\n",
    "    loss_value, loss_vjp = squared_loss(pred_value, y)\n",
    "    value = loss_value\n",
    "\n",
    "    def vjp(u):\n",
    "        vjp_y, vjp_y_pred = loss_vjp(u)\n",
    "        vjp_x, vjp_W1, vjp_W2 = predicted_vjp(vjp_y_pred)\n",
    "        return vjp_x, vjp_y, vjp_W1, vjp_W2\n",
    "    \n",
    "    return value, vjp"
   ]
  },
  {
   "cell_type": "code",
   "execution_count": 54,
   "metadata": {},
   "outputs": [],
   "source": [
    "innerdim = 5\n",
    "W0 = np.ones((d, innerdim))\n",
    "W1 = np.ones((innerdim, innerdim))\n",
    "W2 = np.ones((innerdim, 1))\n",
    "W = [W0, W1, W1, W1, W2]"
   ]
  },
  {
   "cell_type": "code",
   "execution_count": 57,
   "metadata": {},
   "outputs": [
    {
     "name": "stdout",
     "output_type": "stream",
     "text": [
      "(8, 5)\n",
      "(5, 5)\n",
      "(5, 5)\n",
      "(5, 5)\n",
      "(5, 1)\n"
     ]
    }
   ],
   "source": [
    "for i in W:\n",
    "    print(i.shape)"
   ]
  },
  {
   "cell_type": "code",
   "execution_count": null,
   "metadata": {},
   "outputs": [],
   "source": [
    "def SGD(X, y, Wstar, niter, step):\n",
    "    n, d = X.shape\n",
    "    for it in range(niter):\n",
    "        i = np.random.choice(n, 1)\n",
    "        vali, vjpi = loss_i(i, X, y, W)\n",
    "        ei = np.eye(d)[i]\n",
    "        vjpi = vjpi(ei)\n",
    "        # for k in range(len(W)):\n",
    "        print(i, vjpi)"
   ]
  },
  {
   "cell_type": "code",
   "execution_count": 59,
   "metadata": {},
   "outputs": [
    {
     "ename": "ValueError",
     "evalue": "shapes (5,5) and (1,8) not aligned: 5 (dim 1) != 1 (dim 0)",
     "output_type": "error",
     "traceback": [
      "\u001b[1;31m---------------------------------------------------------------------------\u001b[0m",
      "\u001b[1;31mValueError\u001b[0m                                Traceback (most recent call last)",
      "\u001b[1;32mc:\\Users\\norti\\OneDrive - Université Paris-Dauphine\\Documents\\GitHub\\optimisation_ml\\Part 2\\part2.ipynb Cell 29\u001b[0m in \u001b[0;36m<cell line: 1>\u001b[1;34m()\u001b[0m\n\u001b[1;32m----> <a href='vscode-notebook-cell:/c%3A/Users/norti/OneDrive%20-%20Universit%C3%A9%20Paris-Dauphine/Documents/GitHub/optimisation_ml/Part%202/part2.ipynb#X55sZmlsZQ%3D%3D?line=0'>1</a>\u001b[0m SGD(X_train, y_train, W, niter\u001b[39m=\u001b[39;49m\u001b[39m2\u001b[39;49m, step\u001b[39m=\u001b[39;49m\u001b[39m0.05\u001b[39;49m)\n",
      "\u001b[1;32mc:\\Users\\norti\\OneDrive - Université Paris-Dauphine\\Documents\\GitHub\\optimisation_ml\\Part 2\\part2.ipynb Cell 29\u001b[0m in \u001b[0;36mSGD\u001b[1;34m(X, y, Wstar, niter, step)\u001b[0m\n\u001b[0;32m      <a href='vscode-notebook-cell:/c%3A/Users/norti/OneDrive%20-%20Universit%C3%A9%20Paris-Dauphine/Documents/GitHub/optimisation_ml/Part%202/part2.ipynb#X55sZmlsZQ%3D%3D?line=2'>3</a>\u001b[0m \u001b[39mfor\u001b[39;00m it \u001b[39min\u001b[39;00m \u001b[39mrange\u001b[39m(niter):\n\u001b[0;32m      <a href='vscode-notebook-cell:/c%3A/Users/norti/OneDrive%20-%20Universit%C3%A9%20Paris-Dauphine/Documents/GitHub/optimisation_ml/Part%202/part2.ipynb#X55sZmlsZQ%3D%3D?line=3'>4</a>\u001b[0m     i \u001b[39m=\u001b[39m np\u001b[39m.\u001b[39mrandom\u001b[39m.\u001b[39mchoice(n, \u001b[39m1\u001b[39m)\n\u001b[1;32m----> <a href='vscode-notebook-cell:/c%3A/Users/norti/OneDrive%20-%20Universit%C3%A9%20Paris-Dauphine/Documents/GitHub/optimisation_ml/Part%202/part2.ipynb#X55sZmlsZQ%3D%3D?line=4'>5</a>\u001b[0m     vali, vjpi \u001b[39m=\u001b[39m loss_i(i, X, y, W)\n\u001b[0;32m      <a href='vscode-notebook-cell:/c%3A/Users/norti/OneDrive%20-%20Universit%C3%A9%20Paris-Dauphine/Documents/GitHub/optimisation_ml/Part%202/part2.ipynb#X55sZmlsZQ%3D%3D?line=5'>6</a>\u001b[0m     ei \u001b[39m=\u001b[39m np\u001b[39m.\u001b[39meye(d)[i]\n\u001b[0;32m      <a href='vscode-notebook-cell:/c%3A/Users/norti/OneDrive%20-%20Universit%C3%A9%20Paris-Dauphine/Documents/GitHub/optimisation_ml/Part%202/part2.ipynb#X55sZmlsZQ%3D%3D?line=6'>7</a>\u001b[0m     vjpi \u001b[39m=\u001b[39m vjpi(ei)\n",
      "\u001b[1;32mc:\\Users\\norti\\OneDrive - Université Paris-Dauphine\\Documents\\GitHub\\optimisation_ml\\Part 2\\part2.ipynb Cell 29\u001b[0m in \u001b[0;36mloss_i\u001b[1;34m(i, X, y, W)\u001b[0m\n\u001b[0;32m      <a href='vscode-notebook-cell:/c%3A/Users/norti/OneDrive%20-%20Universit%C3%A9%20Paris-Dauphine/Documents/GitHub/optimisation_ml/Part%202/part2.ipynb#X55sZmlsZQ%3D%3D?line=0'>1</a>\u001b[0m \u001b[39mdef\u001b[39;00m \u001b[39mloss_i\u001b[39m(i, X, y, W):\n\u001b[1;32m----> <a href='vscode-notebook-cell:/c%3A/Users/norti/OneDrive%20-%20Universit%C3%A9%20Paris-Dauphine/Documents/GitHub/optimisation_ml/Part%202/part2.ipynb#X55sZmlsZQ%3D%3D?line=1'>2</a>\u001b[0m     pred_value, predicted_vjp \u001b[39m=\u001b[39m mlpk(X[i], W)\n\u001b[0;32m      <a href='vscode-notebook-cell:/c%3A/Users/norti/OneDrive%20-%20Universit%C3%A9%20Paris-Dauphine/Documents/GitHub/optimisation_ml/Part%202/part2.ipynb#X55sZmlsZQ%3D%3D?line=2'>3</a>\u001b[0m     loss_value, loss_vjp \u001b[39m=\u001b[39m squared_loss(pred_value, y)\n\u001b[0;32m      <a href='vscode-notebook-cell:/c%3A/Users/norti/OneDrive%20-%20Universit%C3%A9%20Paris-Dauphine/Documents/GitHub/optimisation_ml/Part%202/part2.ipynb#X55sZmlsZQ%3D%3D?line=3'>4</a>\u001b[0m     value \u001b[39m=\u001b[39m loss_value\n",
      "\u001b[1;32mc:\\Users\\norti\\OneDrive - Université Paris-Dauphine\\Documents\\GitHub\\optimisation_ml\\Part 2\\part2.ipynb Cell 29\u001b[0m in \u001b[0;36mmlpk\u001b[1;34m(x, W)\u001b[0m\n\u001b[0;32m      <a href='vscode-notebook-cell:/c%3A/Users/norti/OneDrive%20-%20Universit%C3%A9%20Paris-Dauphine/Documents/GitHub/optimisation_ml/Part%202/part2.ipynb#X55sZmlsZQ%3D%3D?line=1'>2</a>\u001b[0m \u001b[39m\"\"\"\u001b[39;00m\n\u001b[0;32m      <a href='vscode-notebook-cell:/c%3A/Users/norti/OneDrive%20-%20Universit%C3%A9%20Paris-Dauphine/Documents/GitHub/optimisation_ml/Part%202/part2.ipynb#X55sZmlsZQ%3D%3D?line=2'>3</a>\u001b[0m \u001b[39minput:\u001b[39;00m\n\u001b[0;32m      <a href='vscode-notebook-cell:/c%3A/Users/norti/OneDrive%20-%20Universit%C3%A9%20Paris-Dauphine/Documents/GitHub/optimisation_ml/Part%202/part2.ipynb#X55sZmlsZQ%3D%3D?line=3'>4</a>\u001b[0m \u001b[39m    x = input data\u001b[39;00m\n\u001b[1;32m   (...)\u001b[0m\n\u001b[0;32m     <a href='vscode-notebook-cell:/c%3A/Users/norti/OneDrive%20-%20Universit%C3%A9%20Paris-Dauphine/Documents/GitHub/optimisation_ml/Part%202/part2.ipynb#X55sZmlsZQ%3D%3D?line=10'>11</a>\u001b[0m \u001b[39m    vjp = tuple of vjp's in order d/dx, d/dW1, ... , d/dWk\u001b[39;00m\n\u001b[0;32m     <a href='vscode-notebook-cell:/c%3A/Users/norti/OneDrive%20-%20Universit%C3%A9%20Paris-Dauphine/Documents/GitHub/optimisation_ml/Part%202/part2.ipynb#X55sZmlsZQ%3D%3D?line=11'>12</a>\u001b[0m \u001b[39m\"\"\"\u001b[39;00m\n\u001b[0;32m     <a href='vscode-notebook-cell:/c%3A/Users/norti/OneDrive%20-%20Universit%C3%A9%20Paris-Dauphine/Documents/GitHub/optimisation_ml/Part%202/part2.ipynb#X55sZmlsZQ%3D%3D?line=12'>13</a>\u001b[0m \u001b[39mif\u001b[39;00m (\u001b[39mlen\u001b[39m(W)\u001b[39m>\u001b[39m\u001b[39m3\u001b[39m):\n\u001b[0;32m     <a href='vscode-notebook-cell:/c%3A/Users/norti/OneDrive%20-%20Universit%C3%A9%20Paris-Dauphine/Documents/GitHub/optimisation_ml/Part%202/part2.ipynb#X55sZmlsZQ%3D%3D?line=13'>14</a>\u001b[0m     \u001b[39m# print(\"if\", len(W))\u001b[39;00m\n\u001b[1;32m---> <a href='vscode-notebook-cell:/c%3A/Users/norti/OneDrive%20-%20Universit%C3%A9%20Paris-Dauphine/Documents/GitHub/optimisation_ml/Part%202/part2.ipynb#X55sZmlsZQ%3D%3D?line=14'>15</a>\u001b[0m     value, vjp_1 \u001b[39m=\u001b[39m mlpk(x, W[\u001b[39m1\u001b[39;49m:\u001b[39mlen\u001b[39;49m(W)])\n\u001b[0;32m     <a href='vscode-notebook-cell:/c%3A/Users/norti/OneDrive%20-%20Universit%C3%A9%20Paris-Dauphine/Documents/GitHub/optimisation_ml/Part%202/part2.ipynb#X55sZmlsZQ%3D%3D?line=15'>16</a>\u001b[0m \u001b[39melse\u001b[39;00m:\n\u001b[0;32m     <a href='vscode-notebook-cell:/c%3A/Users/norti/OneDrive%20-%20Universit%C3%A9%20Paris-Dauphine/Documents/GitHub/optimisation_ml/Part%202/part2.ipynb#X55sZmlsZQ%3D%3D?line=16'>17</a>\u001b[0m     \u001b[39m# print(\"else\", len(W))\u001b[39;00m\n\u001b[0;32m     <a href='vscode-notebook-cell:/c%3A/Users/norti/OneDrive%20-%20Universit%C3%A9%20Paris-Dauphine/Documents/GitHub/optimisation_ml/Part%202/part2.ipynb#X55sZmlsZQ%3D%3D?line=17'>18</a>\u001b[0m     value, vjp_1 \u001b[39m=\u001b[39m mlp2(x, W[\u001b[39m-\u001b[39m\u001b[39m2\u001b[39m], W[\u001b[39m-\u001b[39m\u001b[39m1\u001b[39m])\n",
      "\u001b[1;32mc:\\Users\\norti\\OneDrive - Université Paris-Dauphine\\Documents\\GitHub\\optimisation_ml\\Part 2\\part2.ipynb Cell 29\u001b[0m in \u001b[0;36mmlpk\u001b[1;34m(x, W)\u001b[0m\n\u001b[0;32m      <a href='vscode-notebook-cell:/c%3A/Users/norti/OneDrive%20-%20Universit%C3%A9%20Paris-Dauphine/Documents/GitHub/optimisation_ml/Part%202/part2.ipynb#X55sZmlsZQ%3D%3D?line=1'>2</a>\u001b[0m \u001b[39m\"\"\"\u001b[39;00m\n\u001b[0;32m      <a href='vscode-notebook-cell:/c%3A/Users/norti/OneDrive%20-%20Universit%C3%A9%20Paris-Dauphine/Documents/GitHub/optimisation_ml/Part%202/part2.ipynb#X55sZmlsZQ%3D%3D?line=2'>3</a>\u001b[0m \u001b[39minput:\u001b[39;00m\n\u001b[0;32m      <a href='vscode-notebook-cell:/c%3A/Users/norti/OneDrive%20-%20Universit%C3%A9%20Paris-Dauphine/Documents/GitHub/optimisation_ml/Part%202/part2.ipynb#X55sZmlsZQ%3D%3D?line=3'>4</a>\u001b[0m \u001b[39m    x = input data\u001b[39;00m\n\u001b[1;32m   (...)\u001b[0m\n\u001b[0;32m     <a href='vscode-notebook-cell:/c%3A/Users/norti/OneDrive%20-%20Universit%C3%A9%20Paris-Dauphine/Documents/GitHub/optimisation_ml/Part%202/part2.ipynb#X55sZmlsZQ%3D%3D?line=10'>11</a>\u001b[0m \u001b[39m    vjp = tuple of vjp's in order d/dx, d/dW1, ... , d/dWk\u001b[39;00m\n\u001b[0;32m     <a href='vscode-notebook-cell:/c%3A/Users/norti/OneDrive%20-%20Universit%C3%A9%20Paris-Dauphine/Documents/GitHub/optimisation_ml/Part%202/part2.ipynb#X55sZmlsZQ%3D%3D?line=11'>12</a>\u001b[0m \u001b[39m\"\"\"\u001b[39;00m\n\u001b[0;32m     <a href='vscode-notebook-cell:/c%3A/Users/norti/OneDrive%20-%20Universit%C3%A9%20Paris-Dauphine/Documents/GitHub/optimisation_ml/Part%202/part2.ipynb#X55sZmlsZQ%3D%3D?line=12'>13</a>\u001b[0m \u001b[39mif\u001b[39;00m (\u001b[39mlen\u001b[39m(W)\u001b[39m>\u001b[39m\u001b[39m3\u001b[39m):\n\u001b[0;32m     <a href='vscode-notebook-cell:/c%3A/Users/norti/OneDrive%20-%20Universit%C3%A9%20Paris-Dauphine/Documents/GitHub/optimisation_ml/Part%202/part2.ipynb#X55sZmlsZQ%3D%3D?line=13'>14</a>\u001b[0m     \u001b[39m# print(\"if\", len(W))\u001b[39;00m\n\u001b[1;32m---> <a href='vscode-notebook-cell:/c%3A/Users/norti/OneDrive%20-%20Universit%C3%A9%20Paris-Dauphine/Documents/GitHub/optimisation_ml/Part%202/part2.ipynb#X55sZmlsZQ%3D%3D?line=14'>15</a>\u001b[0m     value, vjp_1 \u001b[39m=\u001b[39m mlpk(x, W[\u001b[39m1\u001b[39;49m:\u001b[39mlen\u001b[39;49m(W)])\n\u001b[0;32m     <a href='vscode-notebook-cell:/c%3A/Users/norti/OneDrive%20-%20Universit%C3%A9%20Paris-Dauphine/Documents/GitHub/optimisation_ml/Part%202/part2.ipynb#X55sZmlsZQ%3D%3D?line=15'>16</a>\u001b[0m \u001b[39melse\u001b[39;00m:\n\u001b[0;32m     <a href='vscode-notebook-cell:/c%3A/Users/norti/OneDrive%20-%20Universit%C3%A9%20Paris-Dauphine/Documents/GitHub/optimisation_ml/Part%202/part2.ipynb#X55sZmlsZQ%3D%3D?line=16'>17</a>\u001b[0m     \u001b[39m# print(\"else\", len(W))\u001b[39;00m\n\u001b[0;32m     <a href='vscode-notebook-cell:/c%3A/Users/norti/OneDrive%20-%20Universit%C3%A9%20Paris-Dauphine/Documents/GitHub/optimisation_ml/Part%202/part2.ipynb#X55sZmlsZQ%3D%3D?line=17'>18</a>\u001b[0m     value, vjp_1 \u001b[39m=\u001b[39m mlp2(x, W[\u001b[39m-\u001b[39m\u001b[39m2\u001b[39m], W[\u001b[39m-\u001b[39m\u001b[39m1\u001b[39m])\n",
      "\u001b[1;32mc:\\Users\\norti\\OneDrive - Université Paris-Dauphine\\Documents\\GitHub\\optimisation_ml\\Part 2\\part2.ipynb Cell 29\u001b[0m in \u001b[0;36mmlpk\u001b[1;34m(x, W)\u001b[0m\n\u001b[0;32m     <a href='vscode-notebook-cell:/c%3A/Users/norti/OneDrive%20-%20Universit%C3%A9%20Paris-Dauphine/Documents/GitHub/optimisation_ml/Part%202/part2.ipynb#X55sZmlsZQ%3D%3D?line=14'>15</a>\u001b[0m     value, vjp_1 \u001b[39m=\u001b[39m mlpk(x, W[\u001b[39m1\u001b[39m:\u001b[39mlen\u001b[39m(W)])\n\u001b[0;32m     <a href='vscode-notebook-cell:/c%3A/Users/norti/OneDrive%20-%20Universit%C3%A9%20Paris-Dauphine/Documents/GitHub/optimisation_ml/Part%202/part2.ipynb#X55sZmlsZQ%3D%3D?line=15'>16</a>\u001b[0m \u001b[39melse\u001b[39;00m:\n\u001b[0;32m     <a href='vscode-notebook-cell:/c%3A/Users/norti/OneDrive%20-%20Universit%C3%A9%20Paris-Dauphine/Documents/GitHub/optimisation_ml/Part%202/part2.ipynb#X55sZmlsZQ%3D%3D?line=16'>17</a>\u001b[0m     \u001b[39m# print(\"else\", len(W))\u001b[39;00m\n\u001b[1;32m---> <a href='vscode-notebook-cell:/c%3A/Users/norti/OneDrive%20-%20Universit%C3%A9%20Paris-Dauphine/Documents/GitHub/optimisation_ml/Part%202/part2.ipynb#X55sZmlsZQ%3D%3D?line=17'>18</a>\u001b[0m     value, vjp_1 \u001b[39m=\u001b[39m mlp2(x, W[\u001b[39m-\u001b[39;49m\u001b[39m2\u001b[39;49m], W[\u001b[39m-\u001b[39;49m\u001b[39m1\u001b[39;49m])\n\u001b[0;32m     <a href='vscode-notebook-cell:/c%3A/Users/norti/OneDrive%20-%20Universit%C3%A9%20Paris-Dauphine/Documents/GitHub/optimisation_ml/Part%202/part2.ipynb#X55sZmlsZQ%3D%3D?line=19'>20</a>\u001b[0m value, vjp_2 \u001b[39m=\u001b[39m relu(value)\n\u001b[0;32m     <a href='vscode-notebook-cell:/c%3A/Users/norti/OneDrive%20-%20Universit%C3%A9%20Paris-Dauphine/Documents/GitHub/optimisation_ml/Part%202/part2.ipynb#X55sZmlsZQ%3D%3D?line=20'>21</a>\u001b[0m value, vjp_3 \u001b[39m=\u001b[39m dot(W[\u001b[39m0\u001b[39m], value)\n",
      "\u001b[1;32mc:\\Users\\norti\\OneDrive - Université Paris-Dauphine\\Documents\\GitHub\\optimisation_ml\\Part 2\\part2.ipynb Cell 29\u001b[0m in \u001b[0;36mmlp2\u001b[1;34m(x, W1, W2)\u001b[0m\n\u001b[0;32m      <a href='vscode-notebook-cell:/c%3A/Users/norti/OneDrive%20-%20Universit%C3%A9%20Paris-Dauphine/Documents/GitHub/optimisation_ml/Part%202/part2.ipynb#X55sZmlsZQ%3D%3D?line=0'>1</a>\u001b[0m \u001b[39mdef\u001b[39;00m \u001b[39mmlp2\u001b[39m(x, W1, W2):\n\u001b[1;32m----> <a href='vscode-notebook-cell:/c%3A/Users/norti/OneDrive%20-%20Universit%C3%A9%20Paris-Dauphine/Documents/GitHub/optimisation_ml/Part%202/part2.ipynb#X55sZmlsZQ%3D%3D?line=1'>2</a>\u001b[0m     a, vjp_a \u001b[39m=\u001b[39m mlp1(x, W1)\n\u001b[0;32m      <a href='vscode-notebook-cell:/c%3A/Users/norti/OneDrive%20-%20Universit%C3%A9%20Paris-Dauphine/Documents/GitHub/optimisation_ml/Part%202/part2.ipynb#X55sZmlsZQ%3D%3D?line=2'>3</a>\u001b[0m     b, vjp_b \u001b[39m=\u001b[39m mlp1(a, W2)\n\u001b[0;32m      <a href='vscode-notebook-cell:/c%3A/Users/norti/OneDrive%20-%20Universit%C3%A9%20Paris-Dauphine/Documents/GitHub/optimisation_ml/Part%202/part2.ipynb#X55sZmlsZQ%3D%3D?line=4'>5</a>\u001b[0m     \u001b[39mdef\u001b[39;00m \u001b[39mvjp\u001b[39m(u):\n",
      "\u001b[1;32mc:\\Users\\norti\\OneDrive - Université Paris-Dauphine\\Documents\\GitHub\\optimisation_ml\\Part 2\\part2.ipynb Cell 29\u001b[0m in \u001b[0;36mmlp1\u001b[1;34m(x, W1)\u001b[0m\n\u001b[0;32m      <a href='vscode-notebook-cell:/c%3A/Users/norti/OneDrive%20-%20Universit%C3%A9%20Paris-Dauphine/Documents/GitHub/optimisation_ml/Part%202/part2.ipynb#X55sZmlsZQ%3D%3D?line=0'>1</a>\u001b[0m \u001b[39mdef\u001b[39;00m \u001b[39mmlp1\u001b[39m(x, W1):\n\u001b[1;32m----> <a href='vscode-notebook-cell:/c%3A/Users/norti/OneDrive%20-%20Universit%C3%A9%20Paris-Dauphine/Documents/GitHub/optimisation_ml/Part%202/part2.ipynb#X55sZmlsZQ%3D%3D?line=1'>2</a>\u001b[0m     a, vjp1 \u001b[39m=\u001b[39m dot(W1, x)\n\u001b[0;32m      <a href='vscode-notebook-cell:/c%3A/Users/norti/OneDrive%20-%20Universit%C3%A9%20Paris-Dauphine/Documents/GitHub/optimisation_ml/Part%202/part2.ipynb#X55sZmlsZQ%3D%3D?line=2'>3</a>\u001b[0m     b, vjp2 \u001b[39m=\u001b[39m relu(a)\n\u001b[0;32m      <a href='vscode-notebook-cell:/c%3A/Users/norti/OneDrive%20-%20Universit%C3%A9%20Paris-Dauphine/Documents/GitHub/optimisation_ml/Part%202/part2.ipynb#X55sZmlsZQ%3D%3D?line=4'>5</a>\u001b[0m     value \u001b[39m=\u001b[39m b\n",
      "\u001b[1;32mc:\\Users\\norti\\OneDrive - Université Paris-Dauphine\\Documents\\GitHub\\optimisation_ml\\Part 2\\part2.ipynb Cell 29\u001b[0m in \u001b[0;36mdot\u001b[1;34m(W, x)\u001b[0m\n\u001b[0;32m      <a href='vscode-notebook-cell:/c%3A/Users/norti/OneDrive%20-%20Universit%C3%A9%20Paris-Dauphine/Documents/GitHub/optimisation_ml/Part%202/part2.ipynb#X55sZmlsZQ%3D%3D?line=4'>5</a>\u001b[0m \u001b[39mdef\u001b[39;00m \u001b[39mdot\u001b[39m(W, x):\n\u001b[1;32m----> <a href='vscode-notebook-cell:/c%3A/Users/norti/OneDrive%20-%20Universit%C3%A9%20Paris-Dauphine/Documents/GitHub/optimisation_ml/Part%202/part2.ipynb#X55sZmlsZQ%3D%3D?line=5'>6</a>\u001b[0m     value \u001b[39m=\u001b[39m np\u001b[39m.\u001b[39;49mdot(W, x)\n\u001b[0;32m      <a href='vscode-notebook-cell:/c%3A/Users/norti/OneDrive%20-%20Universit%C3%A9%20Paris-Dauphine/Documents/GitHub/optimisation_ml/Part%202/part2.ipynb#X55sZmlsZQ%3D%3D?line=7'>8</a>\u001b[0m     \u001b[39mdef\u001b[39;00m \u001b[39mvjp\u001b[39m(u):\n\u001b[0;32m      <a href='vscode-notebook-cell:/c%3A/Users/norti/OneDrive%20-%20Universit%C3%A9%20Paris-Dauphine/Documents/GitHub/optimisation_ml/Part%202/part2.ipynb#X55sZmlsZQ%3D%3D?line=8'>9</a>\u001b[0m         vjp_wrt_W \u001b[39m=\u001b[39m np\u001b[39m.\u001b[39mouter(u, x)  \u001b[39m#applied to W\u001b[39;00m\n",
      "File \u001b[1;32m<__array_function__ internals>:180\u001b[0m, in \u001b[0;36mdot\u001b[1;34m(*args, **kwargs)\u001b[0m\n",
      "\u001b[1;31mValueError\u001b[0m: shapes (5,5) and (1,8) not aligned: 5 (dim 1) != 1 (dim 0)"
     ]
    }
   ],
   "source": [
    "SGD(X_train, y_train, W, niter=2, step=0.05)"
   ]
  },
  {
   "cell_type": "code",
   "execution_count": null,
   "metadata": {},
   "outputs": [],
   "source": []
  }
 ],
 "metadata": {
  "kernelspec": {
   "display_name": "Python 3.9.6 64-bit",
   "language": "python",
   "name": "python3"
  },
  "language_info": {
   "codemirror_mode": {
    "name": "ipython",
    "version": 3
   },
   "file_extension": ".py",
   "mimetype": "text/x-python",
   "name": "python",
   "nbconvert_exporter": "python",
   "pygments_lexer": "ipython3",
   "version": "3.9.6"
  },
  "orig_nbformat": 4,
  "vscode": {
   "interpreter": {
    "hash": "bfa605650d3342199cd8cd9bb236e9172d9224cad72c2719efab3fb60e30b42d"
   }
  }
 },
 "nbformat": 4,
 "nbformat_minor": 2
}
